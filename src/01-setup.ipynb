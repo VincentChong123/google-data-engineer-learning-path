{
 "cells": [
  {
   "cell_type": "markdown",
   "id": "deacc593",
   "metadata": {},
   "source": [
    "# Setup environment"
   ]
  },
  {
   "cell_type": "code",
   "execution_count": 1,
   "id": "ca3fda0b",
   "metadata": {},
   "outputs": [
    {
     "name": "stdout",
     "output_type": "stream",
     "text": [
      "/home/vin/01-prj/google-data-engineer-learning-path/.venv/bin/python\n"
     ]
    }
   ],
   "source": [
    "!which python"
   ]
  },
  {
   "cell_type": "code",
   "execution_count": null,
   "id": "614468c1",
   "metadata": {},
   "outputs": [],
   "source": [
    "# !uv pip install -r requirements.txt"
   ]
  },
  {
   "cell_type": "code",
   "execution_count": 2,
   "id": "e56df98c",
   "metadata": {},
   "outputs": [],
   "source": [
    "import mermaid as md\n",
    "from mermaid.graph import Graph"
   ]
  },
  {
   "cell_type": "code",
   "execution_count": 3,
   "id": "8d1a8dec",
   "metadata": {},
   "outputs": [],
   "source": [
    "render = md.Mermaid(\n",
    "    \"\"\"\n",
    "stateDiagram-v2\n",
    "    [*] --> Still\n",
    "    Still --> [*]\n",
    "\n",
    "    Still --> Moving\n",
    "    Moving --> Still\n",
    "    Moving --> Crash\n",
    "    Crash --> [*]\n",
    "\"\"\"\n",
    ").to_png(path=\"../images/diagram1.png\")\n",
    "# render  # !! note this only works in the notebook that rendered the html."
   ]
  },
  {
   "cell_type": "markdown",
   "id": "321b0a92",
   "metadata": {},
   "source": [
    "# v4"
   ]
  },
  {
   "cell_type": "markdown",
   "id": "ebce6671",
   "metadata": {},
   "source": [
    "![image.png](../images/diagram1.png)"
   ]
  }
 ],
 "metadata": {
  "kernelspec": {
   "display_name": ".venv",
   "language": "python",
   "name": "python3"
  },
  "language_info": {
   "codemirror_mode": {
    "name": "ipython",
    "version": 3
   },
   "file_extension": ".py",
   "mimetype": "text/x-python",
   "name": "python",
   "nbconvert_exporter": "python",
   "pygments_lexer": "ipython3",
   "version": "3.10.18"
  }
 },
 "nbformat": 4,
 "nbformat_minor": 5
}
