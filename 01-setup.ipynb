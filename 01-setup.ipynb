{
 "cells": [
  {
   "cell_type": "code",
   "execution_count": null,
   "id": "7188e349",
   "metadata": {},
   "outputs": [],
   "source": [
    "!pip install -q mermaid"
   ]
  },
  {
   "cell_type": "code",
   "execution_count": null,
   "id": "6cb1155d",
   "metadata": {},
   "outputs": [],
   "source": [
    "# from mermaid import Mermaid\n",
    "\n",
    "# Mermaid(\n",
    "#     \"\"\"\n",
    "# graph LR;\n",
    "#     A[Hello] --> B[Medium!];\n",
    "# \"\"\"\n",
    "# )"
   ]
  },
  {
   "cell_type": "markdown",
   "id": "f10696e6",
   "metadata": {},
   "source": [
    "data sink: final data journal"
   ]
  },
  {
   "cell_type": "code",
   "execution_count": null,
   "id": "5e048738",
   "metadata": {},
   "outputs": [],
   "source": [
    "# from IPython.display import display\n",
    "# import ipywidgets as widgets\n",
    "\n",
    "# mermaid_code = \"\"\"\n",
    "# graph TD\n",
    "#   A[Start] --> B{Is it working?}\n",
    "#   B -- Yes --> C[Great]\n",
    "#   B -- No --> D[Fix it]\n",
    "#   D --> B\n",
    "# \"\"\"\n",
    "\n",
    "# display(widgets.HTML(f'<div class=\"mermaid\">{mermaid_code}</div>'))"
   ]
  },
  {
   "cell_type": "code",
   "execution_count": null,
   "id": "05fc7c29",
   "metadata": {},
   "outputs": [],
   "source": [
    "# from IPython.display import display, HTML, Javascript\n",
    "\n",
    "# display(\n",
    "#     HTML(\n",
    "#         \"\"\"\n",
    "# <script src=\"https://cdn.jsdelivr.net/npm/mermaid/dist/mermaid.min.js\"></script>\n",
    "# <script>mermaid.initialize({startOnLoad:true});</script>\n",
    "# \"\"\"\n",
    "#     )\n",
    "# )"
   ]
  },
  {
   "cell_type": "code",
   "execution_count": null,
   "id": "cf7a046a",
   "metadata": {},
   "outputs": [],
   "source": [
    "# mermaid_code = \"\"\"\n",
    "# graph TD;\n",
    "#     A-->B;\n",
    "#     A-->C;\n",
    "#     B-->D;\n",
    "#     C-->D;\n",
    "# \"\"\"\n",
    "\n",
    "# display(HTML(f'<div class=\"mermaid\">{mermaid_code}</div>'))"
   ]
  },
  {
   "cell_type": "code",
   "execution_count": null,
   "id": "614468c1",
   "metadata": {},
   "outputs": [],
   "source": [
    "!python -m pip install mermaid-py"
   ]
  },
  {
   "cell_type": "code",
   "execution_count": null,
   "id": "8d1a8dec",
   "metadata": {},
   "outputs": [],
   "source": [
    "# import mermaid as md\n",
    "# from mermaid.graph import Graph\n",
    "\n",
    "# render = md.Mermaid(\n",
    "#     \"\"\"\n",
    "# stateDiagram-v2\n",
    "#     [*] --> Still\n",
    "#     Still --> [*]\n",
    "\n",
    "#     Still --> Moving\n",
    "#     Moving --> Still\n",
    "#     Moving --> Crash\n",
    "#     Crash --> [*]\n",
    "# \"\"\"\n",
    "# )\n",
    "# render  # !! note this only works in the notebook that rendered the html."
   ]
  },
  {
   "cell_type": "code",
   "execution_count": null,
   "id": "32266dd2",
   "metadata": {},
   "outputs": [],
   "source": [
    "# render.to_png(\"diagram.png\")"
   ]
  },
  {
   "cell_type": "markdown",
   "id": "321b0a92",
   "metadata": {},
   "source": [
    "# v2"
   ]
  },
  {
   "cell_type": "markdown",
   "id": "ebce6671",
   "metadata": {},
   "source": [
    "<!-- ![Mermaid diagram](diagram.png) -->\n",
    "![image.png](diagram.png)"
   ]
  },
  {
   "cell_type": "markdown",
   "id": "194c6055",
   "metadata": {},
   "source": [
    "![try jpg](th.jpeg)"
   ]
  }
 ],
 "metadata": {
  "kernelspec": {
   "display_name": "py39",
   "language": "python",
   "name": "python3"
  },
  "language_info": {
   "codemirror_mode": {
    "name": "ipython",
    "version": 3
   },
   "file_extension": ".py",
   "mimetype": "text/x-python",
   "name": "python",
   "nbconvert_exporter": "python",
   "pygments_lexer": "ipython3",
   "version": "3.9.21"
  }
 },
 "nbformat": 4,
 "nbformat_minor": 5
}
